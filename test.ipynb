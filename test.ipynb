{
 "cells": [
  {
   "cell_type": "code",
   "execution_count": 1,
   "metadata": {},
   "outputs": [
    {
     "name": "stderr",
     "output_type": "stream",
     "text": [
      "/Users/derek/Desktop/HybrIK/hybrik/models/layers/smpl/SMPL.py:85: UserWarning: A NumPy version >=1.23.5 and <2.3.0 is required for this version of SciPy (detected version 1.21.0)\n",
      "  self.smpl_data = Struct(**pk.load(smpl_file, encoding='latin1'))\n",
      "/var/folders/s3/bqcdtp2s6652tsxqm4hhv4gr0000gn/T/ipykernel_5620/3473365641.py:117: FutureWarning: You are using `torch.load` with `weights_only=False` (the current default value), which uses the default pickle module implicitly. It is possible to construct malicious pickle data which will execute arbitrary code during unpickling (See https://github.com/pytorch/pytorch/blob/main/SECURITY.md#untrusted-models for more details). In a future release, the default value for `weights_only` will be flipped to `True`. This limits the functions that could be executed during unpickling. Arbitrary objects will no longer be allowed to be loaded via this mode unless they are explicitly allowlisted by the user via `torch.serialization.add_safe_globals`. We recommend you start setting `weights_only=True` for any use case where you don't have full control of the loaded file. Please open an issue on GitHub for any issues related to this experimental feature.\n",
      "  save_dict = torch.load(CKPT, map_location='cpu')\n"
     ]
    },
    {
     "name": "stdout",
     "output_type": "stream",
     "text": [
      "Loading model from ./pretrained_models/hybrik_hrnet.pth...\n",
      "examples/000000581328.jpg\n",
      "examples/000000581667.jpg\n",
      "examples/000000581357.jpg\n",
      "examples/000000000431.jpg\n",
      "examples/output_frame_001.png\n",
      "examples/000000581091.jpg\n",
      "examples/000000581056.jpg\n"
     ]
    }
   ],
   "source": [
    "import os\n",
    "from typing import Optional, Tuple\n",
    "\n",
    "import torch\n",
    "import torchvision\n",
    "from easydict import EasyDict as edict\n",
    "from PIL import Image\n",
    "from torch.utils.data import DataLoader, Dataset\n",
    "\n",
    "from hybrik.models import builder\n",
    "from hybrik.utils.config import update_config\n",
    "from hybrik.utils.presets import SimpleTransform3DSMPLCam\n",
    "import numpy as np\n",
    "import cv2\n",
    "\n",
    "\n",
    "class hbryik_dataset(Dataset):\n",
    "    \"\"\"\n",
    "    Takes in a folder and returns the images and their filenames\n",
    "    within that folder. No subdirectories with images are returned\n",
    "    \"\"\"\n",
    "    def __init__(self, dir: str, transform: SimpleTransform3DSMPLCam, dim: Tuple[int, int] = (256, 256)) -> None:\n",
    "        \"\"\"\n",
    "        The transform expects an RGB image and a bounding box. The bounding box\n",
    "        is supposed to be around the person in the image but our images will already\n",
    "        be cropped. Therefore, we will not use a bounding box over the entire image.\n",
    "        \n",
    "        Dim: (width, height)\n",
    "        \n",
    "        \"\"\"\n",
    "        self.dir = dir\n",
    "        self.transform = transform\n",
    "        self.images = [file for file in os.listdir(dir) if file.endswith(('jpg', 'jpeg', 'png'))]\n",
    "        self.dim = dim\n",
    "        \n",
    "    def __len__(self):\n",
    "        return len(self.images)\n",
    "    \n",
    "    def __getitem__(self, idx):\n",
    "        \"\"\"Returns the image, the filename, the bbox and the center of the image\"\"\"\n",
    "        print(os.path.join(self.dir, self.images[idx]))\n",
    "        image = cv2.cvtColor(cv2.imread(os.path.join(self.dir, self.images[idx])), cv2.COLOR_BGR2RGB)\n",
    "        # resize the image\n",
    "        image = cv2.resize(image, self.dim)\n",
    "        bbox = [0, 0, image.shape[0], image.shape[1]]\n",
    "        # come back to this if failing but using our own bounding box for now\n",
    "        image, _bbox, img_center = self.transform.test_transform(image, bbox)\n",
    "        return image, self.images[idx], np.array(bbox), np.array(img_center)\n",
    "        \n",
    "\n",
    "\n",
    "def create_dataloader(\n",
    "    data_dir: str,\n",
    "    batch_size: int = 8,\n",
    "    shuffle: bool = False,\n",
    "    num_workers: int = 4,\n",
    "    transform: Optional[torchvision.transforms.Compose] = None,\n",
    ") -> DataLoader:\n",
    "    \"\"\"\n",
    "    Creates a PyTorch DataLoader for images stored in subdirectories.\n",
    "\n",
    "    Parameters:\n",
    "    - data_dir (str): Path to the main directory containing subdirectories of images.\n",
    "    - batch_size (int): Number of samples per batch to load.\n",
    "    - shuffle (bool): Whether to shuffle the dataset.\n",
    "    - num_workers (int): How many subprocesses to use for data loading.\n",
    "    - transform (torchvision.transforms.Compose): Transformations to apply to the images.\n",
    "\n",
    "    Returns:\n",
    "    - DataLoader: PyTorch DataLoader.\n",
    "    \"\"\"\n",
    "\n",
    "    # Load the dataset from the directory with subdirectories\n",
    "    dataset = hbryik_dataset(dir=data_dir, transform=transform)\n",
    "\n",
    "    # Create the DataLoader\n",
    "    dataloader = DataLoader(\n",
    "        dataset, batch_size=batch_size, shuffle=shuffle, num_workers=num_workers\n",
    "    )\n",
    "\n",
    "    return dataloader\n",
    "\n",
    "\n",
    "cfg_file = 'configs/256x192_adam_lr1e-3-hrw48_cam_2x_w_pw3d_3dhp.yaml'\n",
    "CKPT = './pretrained_models/hybrik_hrnet.pth'\n",
    "cfg = update_config(cfg_file)\n",
    "\n",
    "bbox_3d_shape = getattr(cfg.MODEL, 'BBOX_3D_SHAPE', (2000, 2000, 2000))\n",
    "bbox_3d_shape = [item * 1e-3 for item in bbox_3d_shape]\n",
    "dummpy_set = edict({\n",
    "    'joint_pairs_17': None,\n",
    "    'joint_pairs_24': None,\n",
    "    'joint_pairs_29': None,\n",
    "    'bbox_3d_shape': bbox_3d_shape\n",
    "})\n",
    "\n",
    "\n",
    "transformation = SimpleTransform3DSMPLCam(\n",
    "    dummpy_set, scale_factor=cfg.DATASET.SCALE_FACTOR,\n",
    "    color_factor=cfg.DATASET.COLOR_FACTOR,\n",
    "    occlusion=cfg.DATASET.OCCLUSION,\n",
    "    input_size=cfg.MODEL.IMAGE_SIZE,\n",
    "    output_size=cfg.MODEL.HEATMAP_SIZE,\n",
    "    depth_dim=cfg.MODEL.EXTRA.DEPTH_DIM,\n",
    "    bbox_3d_shape=bbox_3d_shape,\n",
    "    rot=cfg.DATASET.ROT_FACTOR, sigma=cfg.MODEL.EXTRA.SIGMA,\n",
    "    train=False, add_dpg=False,\n",
    "    loss_type=cfg.LOSS['TYPE'])\n",
    "\n",
    "data_dir = \"examples\"\n",
    "dataloader = create_dataloader(data_dir, transform=transformation, num_workers=0)\n",
    "device = torch.device('cuda' if torch.cuda.is_available() else 'cpu')\n",
    "\n",
    "\n",
    "hybrik_model = builder.build_sppe(cfg.MODEL)\n",
    "\n",
    "print(f'Loading model from {CKPT}...')\n",
    "save_dict = torch.load(CKPT, map_location='cpu')\n",
    "if type(save_dict) == dict:\n",
    "    model_dict = save_dict['model']\n",
    "    hybrik_model.load_state_dict(model_dict)\n",
    "else:\n",
    "    hybrik_model.load_state_dict(save_dict)\n",
    "    \n",
    "    \n",
    "hybrik_model.eval()\n",
    "\n",
    "for i, (images, filename, bbox, img_center) in enumerate(dataloader):\n",
    "    images = images.to(device)\n",
    "    pose_output = hybrik_model(\n",
    "        images, flip_test=True,\n",
    "        bboxes=bbox.to(images.device).float(),\n",
    "        img_center=img_center.to(images.device).float()\n",
    "    )"
   ]
  },
  {
   "cell_type": "code",
   "execution_count": 24,
   "metadata": {},
   "outputs": [
    {
     "data": {
      "text/plain": [
       "torch.Size([7, 2])"
      ]
     },
     "execution_count": 24,
     "metadata": {},
     "output_type": "execute_result"
    }
   ],
   "source": [
    "img_center.shape"
   ]
  },
  {
   "cell_type": "code",
   "execution_count": 19,
   "metadata": {},
   "outputs": [
    {
     "data": {
      "text/plain": [
       "tensor([[  0,   0, 256, 256],\n",
       "        [  0,   0, 256, 256],\n",
       "        [  0,   0, 256, 256],\n",
       "        [  0,   0, 256, 256],\n",
       "        [  0,   0, 256, 256],\n",
       "        [  0,   0, 256, 256],\n",
       "        [  0,   0, 256, 256]])"
      ]
     },
     "execution_count": 19,
     "metadata": {},
     "output_type": "execute_result"
    }
   ],
   "source": [
    "bbox"
   ]
  }
 ],
 "metadata": {
  "kernelspec": {
   "display_name": ".venv",
   "language": "python",
   "name": "python3"
  },
  "language_info": {
   "codemirror_mode": {
    "name": "ipython",
    "version": 3
   },
   "file_extension": ".py",
   "mimetype": "text/x-python",
   "name": "python",
   "nbconvert_exporter": "python",
   "pygments_lexer": "ipython3",
   "version": "3.10.14"
  }
 },
 "nbformat": 4,
 "nbformat_minor": 2
}
